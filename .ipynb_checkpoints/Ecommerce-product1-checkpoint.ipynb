{
 "cells": [
  {
   "cell_type": "code",
   "execution_count": null,
   "id": "ded121ad",
   "metadata": {},
   "outputs": [],
   "source": []
  },
  {
   "cell_type": "markdown",
   "id": "870eca93",
   "metadata": {},
   "source": [
    "# <p style=\"background-color:#9C27B0; font-family:calibri; color:white; font-size:120%; text-align:center; border-radius:15px 50px;\">Capstone Project | E-commerce Product Delivery Prediction</p>"
   ]
  },
  {
   "cell_type": "markdown",
   "id": "5e990e4a",
   "metadata": {},
   "source": [
    "<img src=\"img.JPG\" width=\"100%\" height=\"60%\">"
   ]
  },
  {
   "cell_type": "markdown",
   "id": "0eef7015",
   "metadata": {},
   "source": [
    "<div style=\"border-radius:10px; padding: 15px; background-color:rgb(241, 191, 250); font-size:120%; text-align:left\">\n",
    "\n",
    "<h3 align=\"left\"><font color=purple><b>Problem:</b></font></h3>\n",
    "\n",
    "<font color=black>\n",
    "In this project, we analyze a dataset containing shipment, customer, and product details from an <b>international e-commerce</b> company.\n",
    "\n",
    "The primary goal is to build a predictive model capable of accurately determining whether a product will be delivered on time or delayed. Since late deliveries negatively impact customer satisfaction and business reputation, our focus is on minimizing false negatives — i.e., ensuring the model correctly identifies potential late deliveries. Therefore, recall for the late delivery class is a critical evaluation metric for this project.</font>"
   ]
  },
  {
   "cell_type": "markdown",
   "id": "a779519e",
   "metadata": {},
   "source": [
    "<div style=\"border-radius:10px; padding: 15px; background-color:rgb(241, 191, 250); font-size:115%; text-align:left\">\n",
    "  <h3 style=\"color:purple;\"><b>Objectives:</b></h3>\n",
    "  <ul style=\"color:black;\">\n",
    "    <li><b>Explore the Dataset:</b> Uncover patterns, distributions, and relationships within the data.</li>\n",
    "    <li><b>Conduct Extensive Exploratory Data Analysis (EDA):</b> Dive deep into bivariate relationships against the target.</li>\n",
    "    <li><b>Preprocessing Steps:</b>\n",
    "      <ul>\n",
    "        <li>Remove irrelevant features</li>\n",
    "        <li>Address missing values</li>\n",
    "        <li>Treat outliers</li>\n",
    "        <li>Encode categorical variables</li>\n",
    "        <li>Transform skewed features to achieve normal-like distributions</li>\n",
    "      </ul>\n",
    "    </li>\n",
    "    <li><b>Model Building:</b>\n",
    "      <ul>\n",
    "        <li>Establish pipelines for models that require scaling</li>\n",
    "        <li>Implement and tune classification models: Logistic Regression, SVM, Decision Trees, Random Forest</li>\n",
    "        <li>Emphasize high recall for class 1 to ensure comprehensive identification of heart patients</li>\n",
    "      </ul>\n",
    "    </li>\n",
    "    <li><b>Evaluate and Compare Model Performance:</b> Utilize precision, recall, and F1-score to gauge models' effectiveness.</li>\n",
    "  </ul>\n",
    "</div>\n"
   ]
  },
  {
   "cell_type": "markdown",
   "id": "096ca9ea",
   "metadata": {},
   "source": [
    "<style>\n",
    "a {\n",
    "  color: #00004d !important;  /* Or any color you like */\n",
    "  text-decoration:none;   /* Optional: removes underline */\n",
    "  font-family:cambria;\n",
    "}\n",
    "</style>\n",
    "\n",
    "<a id=\"contents_table\"></a>\n",
    "\n",
    "<div style=\"border-radius:10px; padding: 15px; background-color: rgb(241, 191, 250); font-size:100%; text-align:left;\">\n",
    "\n",
    "<h3 align=\"left\"><font color=\"purple\"><b>Table of Contents:</b></font></h3>\n",
    "\n",
    "* [Step 1 | Import Libraries](#import)\n",
    "* [Step 2 | Load the Dataset](#read)\n",
    "* [Step 3 | Dataset Overview](#overview)\n",
    "    - [3.1 | Basic Information](#basic_info)\n",
    "    - [3.2 | Summary Statistics](#summary_stats)\n",
    "* [Step 4 | Exploratory Data Analysis](#eda)\n",
    "    - [4.1 | Univariate Analysis](#univariate)\n",
    "        - [4.1.1 | Categorical Features](#cat_uni)\n",
    "        - [4.1.2 | Numerical Features](#num_uni)\n",
    "    - [4.2 | Bivariate Analysis](#bivariate)\n",
    "        - [4.2.1 | Target vs Categorical Features](#target_cat)\n",
    "        - [4.2.2 | Target vs Numerical Features](#target_num)\n",
    "        - [4.2.3 | Correlation Matrix](#correlation)\n",
    "* [Step 5 | Data Pre-processing](#preprocessing)\n",
    "    - [5.1 | Split Features & Target](#split)\n",
    "    - [5.2 | Column Transformer](#transformer)\n",
    "    - [5.3 | Train-Test Split](#train_test)\n",
    "* [Step 6 | Model Building](#model_building)\n",
    "    - [6.1 | Build Model](#model_build)\n",
    "    - [6.2 | Parameter Tuning](#param_tuning)\n",
    "    - [6.3 | GridSearchCV Setup](#gridsearch)\n",
    "* [Step 7 | Model Evaluation](#evaluation)\n",
    "    - [7.1 | Accuracy, Precision, Recall, F1-Score](#metrics)\n",
    "    - [7.2 | ROC Curve](#roc)\n",
    "    - [7.3 | Classification Report](#classification_report)\n",
    "* [Step 8 | Model Comparison](#comparison)\n",
    "    - [8.1 | Bar Plot of Metrics](#bar_plot)\n",
    "    - [8.2 | Extract from Best Model Pipeline](#best_pipeline)\n",
    "    - [8.3 | Plot Top Features](#top_features)\n",
    "* [Step 9 | Conclusion](#conclusion)\n",
    "\n",
    "⬆️ **[Back to Top](#contents_table)**\n",
    "</div>\n",
    "\n",
    "\n"
   ]
  },
  {
   "cell_type": "markdown",
   "id": "19b53d94",
   "metadata": {},
   "source": [
    "\n",
    "<a id=\"import\"></a>\n",
    "## <p style=\"background-color:#9C27B0; font-family:calibri; color:white; font-size:100%; text-align:center; border-radius:15px 50px;\">Step 1 | Import Libraries</p>\n",
    "\n",
    "⬆️ [Contents](#contents_table)"
   ]
  },
  {
   "cell_type": "code",
   "execution_count": 3,
   "id": "d99805d9",
   "metadata": {},
   "outputs": [],
   "source": [
    "import numpy as numpy\n",
    "import pandas as pd\n",
    "import matplotlib.pyplot as plt\n",
    "import seaborn as sns\n",
    "\n",
    "from sklearn.model_selection import train_test_split, GridSearchCV,RandomizedSearchCV\n",
    "from sklearn.pipeline import Pipeline\n",
    "from sklearn.compose import ColumnTransformer\n",
    "from sklearn.preprocessing import OneHotEncoder,RobustScaler\n",
    "from sklearn.preprocessing import OrdinalEncoder\n",
    "from sklearn.ensemble import RandomForestClassifier\n",
    "from sklearn.metrics import confusion_matrix,classification_report,roc_auc_score, roc_curve,mean_absolute_error, r2_score, mean_squared_error\n",
    "from sklearn.metrics import accuracy_score\n",
    "\n",
    "from sklearn.ensemble import RandomForestClassifier\n",
    "from sklearn.linear_model import LogisticRegression\n",
    "from sklearn.neighbors import KNeighborsClassifier\n",
    "from sklearn.tree import DecisionTreeClassifier\n",
    "\n",
    "import ipywidgets as widgets\n",
    "from IPython.display import display, HTML\n",
    "\n",
    "from imblearn.over_sampling import SMOTE\n",
    "\n",
    "import warnings\n",
    "warnings.filterwarnings('ignore')"
   ]
  },
  {
   "cell_type": "code",
   "execution_count": 4,
   "id": "b496cdf0-09cf-445c-8d6c-2da332e7f4f1",
   "metadata": {},
   "outputs": [
    {
     "name": "stdout",
     "output_type": "stream",
     "text": [
      "Defaulting to user installation because normal site-packages is not writeable\n",
      "Requirement already satisfied: ipywidgets in c:\\users\\adity\\appdata\\roaming\\python\\python313\\site-packages (8.1.7)\n",
      "Requirement already satisfied: comm>=0.1.3 in c:\\users\\adity\\appdata\\roaming\\python\\python313\\site-packages (from ipywidgets) (0.2.2)\n",
      "Requirement already satisfied: ipython>=6.1.0 in c:\\users\\adity\\appdata\\roaming\\python\\python313\\site-packages (from ipywidgets) (9.2.0)\n",
      "Requirement already satisfied: traitlets>=4.3.1 in c:\\users\\adity\\appdata\\roaming\\python\\python313\\site-packages (from ipywidgets) (5.14.3)\n",
      "Requirement already satisfied: widgetsnbextension~=4.0.14 in c:\\users\\adity\\appdata\\roaming\\python\\python313\\site-packages (from ipywidgets) (4.0.14)\n",
      "Requirement already satisfied: jupyterlab_widgets~=3.0.15 in c:\\users\\adity\\appdata\\roaming\\python\\python313\\site-packages (from ipywidgets) (3.0.15)\n",
      "Requirement already satisfied: colorama in c:\\users\\adity\\appdata\\roaming\\python\\python313\\site-packages (from ipython>=6.1.0->ipywidgets) (0.4.6)\n",
      "Requirement already satisfied: decorator in c:\\users\\adity\\appdata\\roaming\\python\\python313\\site-packages (from ipython>=6.1.0->ipywidgets) (5.2.1)\n",
      "Requirement already satisfied: ipython-pygments-lexers in c:\\users\\adity\\appdata\\roaming\\python\\python313\\site-packages (from ipython>=6.1.0->ipywidgets) (1.1.1)\n",
      "Requirement already satisfied: jedi>=0.16 in c:\\users\\adity\\appdata\\roaming\\python\\python313\\site-packages (from ipython>=6.1.0->ipywidgets) (0.19.2)\n",
      "Requirement already satisfied: matplotlib-inline in c:\\users\\adity\\appdata\\roaming\\python\\python313\\site-packages (from ipython>=6.1.0->ipywidgets) (0.1.7)\n",
      "Requirement already satisfied: prompt_toolkit<3.1.0,>=3.0.41 in c:\\users\\adity\\appdata\\roaming\\python\\python313\\site-packages (from ipython>=6.1.0->ipywidgets) (3.0.51)\n",
      "Requirement already satisfied: pygments>=2.4.0 in c:\\users\\adity\\appdata\\roaming\\python\\python313\\site-packages (from ipython>=6.1.0->ipywidgets) (2.19.1)\n",
      "Requirement already satisfied: stack_data in c:\\users\\adity\\appdata\\roaming\\python\\python313\\site-packages (from ipython>=6.1.0->ipywidgets) (0.6.3)\n",
      "Requirement already satisfied: wcwidth in c:\\users\\adity\\appdata\\roaming\\python\\python313\\site-packages (from prompt_toolkit<3.1.0,>=3.0.41->ipython>=6.1.0->ipywidgets) (0.2.13)\n",
      "Requirement already satisfied: parso<0.9.0,>=0.8.4 in c:\\users\\adity\\appdata\\roaming\\python\\python313\\site-packages (from jedi>=0.16->ipython>=6.1.0->ipywidgets) (0.8.4)\n",
      "Requirement already satisfied: executing>=1.2.0 in c:\\users\\adity\\appdata\\roaming\\python\\python313\\site-packages (from stack_data->ipython>=6.1.0->ipywidgets) (2.2.0)\n",
      "Requirement already satisfied: asttokens>=2.1.0 in c:\\users\\adity\\appdata\\roaming\\python\\python313\\site-packages (from stack_data->ipython>=6.1.0->ipywidgets) (3.0.0)\n",
      "Requirement already satisfied: pure-eval in c:\\users\\adity\\appdata\\roaming\\python\\python313\\site-packages (from stack_data->ipython>=6.1.0->ipywidgets) (0.2.3)\n",
      "Note: you may need to restart the kernel to use updated packages.\n"
     ]
    }
   ],
   "source": [
    "# pip install ipywidgets"
   ]
  },
  {
   "cell_type": "markdown",
   "id": "715d3b48",
   "metadata": {},
   "source": [
    "\n",
    "\n",
    "<a id=\"read\"></a>\n",
    "## <p style=\"background-color:#9C27B0; font-family:calibri; color:white; font-size:100%; text-align:center; border-radius:15px 50px;\">Step 2 | Load the dataset</p>\n",
    "\n",
    "⬆️ [Contents](#contents_table)"
   ]
  },
  {
   "cell_type": "code",
   "execution_count": 5,
   "id": "7c54d3c1",
   "metadata": {},
   "outputs": [
    {
     "ename": "FileNotFoundError",
     "evalue": "[Errno 2] No such file or directory: 'E_Commerce.csv'",
     "output_type": "error",
     "traceback": [
      "\u001b[31m---------------------------------------------------------------------------\u001b[39m",
      "\u001b[31mFileNotFoundError\u001b[39m                         Traceback (most recent call last)",
      "\u001b[36mCell\u001b[39m\u001b[36m \u001b[39m\u001b[32mIn[5]\u001b[39m\u001b[32m, line 1\u001b[39m\n\u001b[32m----> \u001b[39m\u001b[32m1\u001b[39m df = \u001b[43mpd\u001b[49m\u001b[43m.\u001b[49m\u001b[43mread_csv\u001b[49m\u001b[43m(\u001b[49m\u001b[33;43m\"\u001b[39;49m\u001b[33;43mE_Commerce.csv\u001b[39;49m\u001b[33;43m\"\u001b[39;49m\u001b[43m)\u001b[49m\n\u001b[32m      3\u001b[39m df.head()\n",
      "\u001b[36mFile \u001b[39m\u001b[32m~\\AppData\\Roaming\\Python\\Python313\\site-packages\\pandas\\io\\parsers\\readers.py:1026\u001b[39m, in \u001b[36mread_csv\u001b[39m\u001b[34m(filepath_or_buffer, sep, delimiter, header, names, index_col, usecols, dtype, engine, converters, true_values, false_values, skipinitialspace, skiprows, skipfooter, nrows, na_values, keep_default_na, na_filter, verbose, skip_blank_lines, parse_dates, infer_datetime_format, keep_date_col, date_parser, date_format, dayfirst, cache_dates, iterator, chunksize, compression, thousands, decimal, lineterminator, quotechar, quoting, doublequote, escapechar, comment, encoding, encoding_errors, dialect, on_bad_lines, delim_whitespace, low_memory, memory_map, float_precision, storage_options, dtype_backend)\u001b[39m\n\u001b[32m   1013\u001b[39m kwds_defaults = _refine_defaults_read(\n\u001b[32m   1014\u001b[39m     dialect,\n\u001b[32m   1015\u001b[39m     delimiter,\n\u001b[32m   (...)\u001b[39m\u001b[32m   1022\u001b[39m     dtype_backend=dtype_backend,\n\u001b[32m   1023\u001b[39m )\n\u001b[32m   1024\u001b[39m kwds.update(kwds_defaults)\n\u001b[32m-> \u001b[39m\u001b[32m1026\u001b[39m \u001b[38;5;28;01mreturn\u001b[39;00m \u001b[43m_read\u001b[49m\u001b[43m(\u001b[49m\u001b[43mfilepath_or_buffer\u001b[49m\u001b[43m,\u001b[49m\u001b[43m \u001b[49m\u001b[43mkwds\u001b[49m\u001b[43m)\u001b[49m\n",
      "\u001b[36mFile \u001b[39m\u001b[32m~\\AppData\\Roaming\\Python\\Python313\\site-packages\\pandas\\io\\parsers\\readers.py:620\u001b[39m, in \u001b[36m_read\u001b[39m\u001b[34m(filepath_or_buffer, kwds)\u001b[39m\n\u001b[32m    617\u001b[39m _validate_names(kwds.get(\u001b[33m\"\u001b[39m\u001b[33mnames\u001b[39m\u001b[33m\"\u001b[39m, \u001b[38;5;28;01mNone\u001b[39;00m))\n\u001b[32m    619\u001b[39m \u001b[38;5;66;03m# Create the parser.\u001b[39;00m\n\u001b[32m--> \u001b[39m\u001b[32m620\u001b[39m parser = \u001b[43mTextFileReader\u001b[49m\u001b[43m(\u001b[49m\u001b[43mfilepath_or_buffer\u001b[49m\u001b[43m,\u001b[49m\u001b[43m \u001b[49m\u001b[43m*\u001b[49m\u001b[43m*\u001b[49m\u001b[43mkwds\u001b[49m\u001b[43m)\u001b[49m\n\u001b[32m    622\u001b[39m \u001b[38;5;28;01mif\u001b[39;00m chunksize \u001b[38;5;129;01mor\u001b[39;00m iterator:\n\u001b[32m    623\u001b[39m     \u001b[38;5;28;01mreturn\u001b[39;00m parser\n",
      "\u001b[36mFile \u001b[39m\u001b[32m~\\AppData\\Roaming\\Python\\Python313\\site-packages\\pandas\\io\\parsers\\readers.py:1620\u001b[39m, in \u001b[36mTextFileReader.__init__\u001b[39m\u001b[34m(self, f, engine, **kwds)\u001b[39m\n\u001b[32m   1617\u001b[39m     \u001b[38;5;28mself\u001b[39m.options[\u001b[33m\"\u001b[39m\u001b[33mhas_index_names\u001b[39m\u001b[33m\"\u001b[39m] = kwds[\u001b[33m\"\u001b[39m\u001b[33mhas_index_names\u001b[39m\u001b[33m\"\u001b[39m]\n\u001b[32m   1619\u001b[39m \u001b[38;5;28mself\u001b[39m.handles: IOHandles | \u001b[38;5;28;01mNone\u001b[39;00m = \u001b[38;5;28;01mNone\u001b[39;00m\n\u001b[32m-> \u001b[39m\u001b[32m1620\u001b[39m \u001b[38;5;28mself\u001b[39m._engine = \u001b[38;5;28;43mself\u001b[39;49m\u001b[43m.\u001b[49m\u001b[43m_make_engine\u001b[49m\u001b[43m(\u001b[49m\u001b[43mf\u001b[49m\u001b[43m,\u001b[49m\u001b[43m \u001b[49m\u001b[38;5;28;43mself\u001b[39;49m\u001b[43m.\u001b[49m\u001b[43mengine\u001b[49m\u001b[43m)\u001b[49m\n",
      "\u001b[36mFile \u001b[39m\u001b[32m~\\AppData\\Roaming\\Python\\Python313\\site-packages\\pandas\\io\\parsers\\readers.py:1880\u001b[39m, in \u001b[36mTextFileReader._make_engine\u001b[39m\u001b[34m(self, f, engine)\u001b[39m\n\u001b[32m   1878\u001b[39m     \u001b[38;5;28;01mif\u001b[39;00m \u001b[33m\"\u001b[39m\u001b[33mb\u001b[39m\u001b[33m\"\u001b[39m \u001b[38;5;129;01mnot\u001b[39;00m \u001b[38;5;129;01min\u001b[39;00m mode:\n\u001b[32m   1879\u001b[39m         mode += \u001b[33m\"\u001b[39m\u001b[33mb\u001b[39m\u001b[33m\"\u001b[39m\n\u001b[32m-> \u001b[39m\u001b[32m1880\u001b[39m \u001b[38;5;28mself\u001b[39m.handles = \u001b[43mget_handle\u001b[49m\u001b[43m(\u001b[49m\n\u001b[32m   1881\u001b[39m \u001b[43m    \u001b[49m\u001b[43mf\u001b[49m\u001b[43m,\u001b[49m\n\u001b[32m   1882\u001b[39m \u001b[43m    \u001b[49m\u001b[43mmode\u001b[49m\u001b[43m,\u001b[49m\n\u001b[32m   1883\u001b[39m \u001b[43m    \u001b[49m\u001b[43mencoding\u001b[49m\u001b[43m=\u001b[49m\u001b[38;5;28;43mself\u001b[39;49m\u001b[43m.\u001b[49m\u001b[43moptions\u001b[49m\u001b[43m.\u001b[49m\u001b[43mget\u001b[49m\u001b[43m(\u001b[49m\u001b[33;43m\"\u001b[39;49m\u001b[33;43mencoding\u001b[39;49m\u001b[33;43m\"\u001b[39;49m\u001b[43m,\u001b[49m\u001b[43m \u001b[49m\u001b[38;5;28;43;01mNone\u001b[39;49;00m\u001b[43m)\u001b[49m\u001b[43m,\u001b[49m\n\u001b[32m   1884\u001b[39m \u001b[43m    \u001b[49m\u001b[43mcompression\u001b[49m\u001b[43m=\u001b[49m\u001b[38;5;28;43mself\u001b[39;49m\u001b[43m.\u001b[49m\u001b[43moptions\u001b[49m\u001b[43m.\u001b[49m\u001b[43mget\u001b[49m\u001b[43m(\u001b[49m\u001b[33;43m\"\u001b[39;49m\u001b[33;43mcompression\u001b[39;49m\u001b[33;43m\"\u001b[39;49m\u001b[43m,\u001b[49m\u001b[43m \u001b[49m\u001b[38;5;28;43;01mNone\u001b[39;49;00m\u001b[43m)\u001b[49m\u001b[43m,\u001b[49m\n\u001b[32m   1885\u001b[39m \u001b[43m    \u001b[49m\u001b[43mmemory_map\u001b[49m\u001b[43m=\u001b[49m\u001b[38;5;28;43mself\u001b[39;49m\u001b[43m.\u001b[49m\u001b[43moptions\u001b[49m\u001b[43m.\u001b[49m\u001b[43mget\u001b[49m\u001b[43m(\u001b[49m\u001b[33;43m\"\u001b[39;49m\u001b[33;43mmemory_map\u001b[39;49m\u001b[33;43m\"\u001b[39;49m\u001b[43m,\u001b[49m\u001b[43m \u001b[49m\u001b[38;5;28;43;01mFalse\u001b[39;49;00m\u001b[43m)\u001b[49m\u001b[43m,\u001b[49m\n\u001b[32m   1886\u001b[39m \u001b[43m    \u001b[49m\u001b[43mis_text\u001b[49m\u001b[43m=\u001b[49m\u001b[43mis_text\u001b[49m\u001b[43m,\u001b[49m\n\u001b[32m   1887\u001b[39m \u001b[43m    \u001b[49m\u001b[43merrors\u001b[49m\u001b[43m=\u001b[49m\u001b[38;5;28;43mself\u001b[39;49m\u001b[43m.\u001b[49m\u001b[43moptions\u001b[49m\u001b[43m.\u001b[49m\u001b[43mget\u001b[49m\u001b[43m(\u001b[49m\u001b[33;43m\"\u001b[39;49m\u001b[33;43mencoding_errors\u001b[39;49m\u001b[33;43m\"\u001b[39;49m\u001b[43m,\u001b[49m\u001b[43m \u001b[49m\u001b[33;43m\"\u001b[39;49m\u001b[33;43mstrict\u001b[39;49m\u001b[33;43m\"\u001b[39;49m\u001b[43m)\u001b[49m\u001b[43m,\u001b[49m\n\u001b[32m   1888\u001b[39m \u001b[43m    \u001b[49m\u001b[43mstorage_options\u001b[49m\u001b[43m=\u001b[49m\u001b[38;5;28;43mself\u001b[39;49m\u001b[43m.\u001b[49m\u001b[43moptions\u001b[49m\u001b[43m.\u001b[49m\u001b[43mget\u001b[49m\u001b[43m(\u001b[49m\u001b[33;43m\"\u001b[39;49m\u001b[33;43mstorage_options\u001b[39;49m\u001b[33;43m\"\u001b[39;49m\u001b[43m,\u001b[49m\u001b[43m \u001b[49m\u001b[38;5;28;43;01mNone\u001b[39;49;00m\u001b[43m)\u001b[49m\u001b[43m,\u001b[49m\n\u001b[32m   1889\u001b[39m \u001b[43m\u001b[49m\u001b[43m)\u001b[49m\n\u001b[32m   1890\u001b[39m \u001b[38;5;28;01massert\u001b[39;00m \u001b[38;5;28mself\u001b[39m.handles \u001b[38;5;129;01mis\u001b[39;00m \u001b[38;5;129;01mnot\u001b[39;00m \u001b[38;5;28;01mNone\u001b[39;00m\n\u001b[32m   1891\u001b[39m f = \u001b[38;5;28mself\u001b[39m.handles.handle\n",
      "\u001b[36mFile \u001b[39m\u001b[32m~\\AppData\\Roaming\\Python\\Python313\\site-packages\\pandas\\io\\common.py:873\u001b[39m, in \u001b[36mget_handle\u001b[39m\u001b[34m(path_or_buf, mode, encoding, compression, memory_map, is_text, errors, storage_options)\u001b[39m\n\u001b[32m    868\u001b[39m \u001b[38;5;28;01melif\u001b[39;00m \u001b[38;5;28misinstance\u001b[39m(handle, \u001b[38;5;28mstr\u001b[39m):\n\u001b[32m    869\u001b[39m     \u001b[38;5;66;03m# Check whether the filename is to be opened in binary mode.\u001b[39;00m\n\u001b[32m    870\u001b[39m     \u001b[38;5;66;03m# Binary mode does not support 'encoding' and 'newline'.\u001b[39;00m\n\u001b[32m    871\u001b[39m     \u001b[38;5;28;01mif\u001b[39;00m ioargs.encoding \u001b[38;5;129;01mand\u001b[39;00m \u001b[33m\"\u001b[39m\u001b[33mb\u001b[39m\u001b[33m\"\u001b[39m \u001b[38;5;129;01mnot\u001b[39;00m \u001b[38;5;129;01min\u001b[39;00m ioargs.mode:\n\u001b[32m    872\u001b[39m         \u001b[38;5;66;03m# Encoding\u001b[39;00m\n\u001b[32m--> \u001b[39m\u001b[32m873\u001b[39m         handle = \u001b[38;5;28;43mopen\u001b[39;49m\u001b[43m(\u001b[49m\n\u001b[32m    874\u001b[39m \u001b[43m            \u001b[49m\u001b[43mhandle\u001b[49m\u001b[43m,\u001b[49m\n\u001b[32m    875\u001b[39m \u001b[43m            \u001b[49m\u001b[43mioargs\u001b[49m\u001b[43m.\u001b[49m\u001b[43mmode\u001b[49m\u001b[43m,\u001b[49m\n\u001b[32m    876\u001b[39m \u001b[43m            \u001b[49m\u001b[43mencoding\u001b[49m\u001b[43m=\u001b[49m\u001b[43mioargs\u001b[49m\u001b[43m.\u001b[49m\u001b[43mencoding\u001b[49m\u001b[43m,\u001b[49m\n\u001b[32m    877\u001b[39m \u001b[43m            \u001b[49m\u001b[43merrors\u001b[49m\u001b[43m=\u001b[49m\u001b[43merrors\u001b[49m\u001b[43m,\u001b[49m\n\u001b[32m    878\u001b[39m \u001b[43m            \u001b[49m\u001b[43mnewline\u001b[49m\u001b[43m=\u001b[49m\u001b[33;43m\"\u001b[39;49m\u001b[33;43m\"\u001b[39;49m\u001b[43m,\u001b[49m\n\u001b[32m    879\u001b[39m \u001b[43m        \u001b[49m\u001b[43m)\u001b[49m\n\u001b[32m    880\u001b[39m     \u001b[38;5;28;01melse\u001b[39;00m:\n\u001b[32m    881\u001b[39m         \u001b[38;5;66;03m# Binary mode\u001b[39;00m\n\u001b[32m    882\u001b[39m         handle = \u001b[38;5;28mopen\u001b[39m(handle, ioargs.mode)\n",
      "\u001b[31mFileNotFoundError\u001b[39m: [Errno 2] No such file or directory: 'E_Commerce.csv'"
     ]
    }
   ],
   "source": [
    "\n",
    "df = pd.read_csv(\"E_Commerce.csv\")\n",
    "\n",
    "df.head()"
   ]
  },
  {
   "cell_type": "code",
   "execution_count": null,
   "id": "5cf41a1e",
   "metadata": {},
   "outputs": [],
   "source": [
    "df.shape"
   ]
  },
  {
   "cell_type": "markdown",
   "id": "485c5759",
   "metadata": {},
   "source": [
    "<a id=\"overview\"></a>\n",
    "## <p style=\"background-color:#9C27B0; font-family:calibri; color:white; font-size:100%; text-align:center; border-radius:15px 50px;\">Step 3 | Dataset Overview</p>\n",
    "\n",
    "⬆️ [Contents](#contents_table)\n"
   ]
  },
  {
   "cell_type": "markdown",
   "id": "8b831600",
   "metadata": {},
   "source": [
    "<a id=\"overview\"></a>\n",
    "## <b><span style='color:#ff00ff'>Step 3.1 |</span><span style='color:#ff00ff'> Dataset Basic Information</span></b>"
   ]
  },
  {
   "cell_type": "code",
   "execution_count": null,
   "id": "22ac08b5",
   "metadata": {},
   "outputs": [],
   "source": [
    "df.info()"
   ]
  },
  {
   "cell_type": "code",
   "execution_count": null,
   "id": "db9b331b",
   "metadata": {},
   "outputs": [],
   "source": [
    "df.dtypes       #Checking data types of the columns"
   ]
  },
  {
   "cell_type": "code",
   "execution_count": null,
   "id": "72446bc6",
   "metadata": {},
   "outputs": [],
   "source": [
    "df.isnull().sum()       #Checking for null/missing values"
   ]
  },
  {
   "cell_type": "code",
   "execution_count": null,
   "id": "db9d3248",
   "metadata": {},
   "outputs": [],
   "source": [
    "df.duplicated().sum()     #Checking for duplicate values"
   ]
  },
  {
   "cell_type": "markdown",
   "id": "322137e4",
   "metadata": {},
   "source": [
    "<a id=\"overview\"></a>\n",
    "## <b><span style='color:#ff00ff'>Step 3.2 |</span><span style='color:#ff00ff'> Summary Statistics for Numerical Variables</span></b></span></b>\n"
   ]
  },
  {
   "cell_type": "code",
   "execution_count": null,
   "id": "23ca1a75",
   "metadata": {},
   "outputs": [],
   "source": [
    "df.describe().T"
   ]
  },
  {
   "cell_type": "markdown",
   "id": "08fdc4ce",
   "metadata": {},
   "source": [
    "<a id=\"overview\"></a>\n",
    "## <b><span style='color:#ff00ff'>Step 3.3 |</span><span style='color:#ff00ff'> Summary Statistics for Numerical Variables</span></b></span></b>"
   ]
  },
  {
   "cell_type": "code",
   "execution_count": null,
   "id": "92838a62",
   "metadata": {},
   "outputs": [],
   "source": [
    "df.describe(include=object)"
   ]
  },
  {
   "cell_type": "code",
   "execution_count": null,
   "id": "88d331ba",
   "metadata": {},
   "outputs": [],
   "source": []
  },
  {
   "cell_type": "markdown",
   "id": "ea0c94fb",
   "metadata": {},
   "source": [
    "<a id=\"eda\"></a>\n",
    "## <p style=\"background-color:#9C27B0; font-family:calibri; color:white; font-size:100%; text-align:center; border-radius:15px 50px;\">Step 4 | Exploratory Data Analysis</p>\n",
    "\n",
    "⬆️ [Contents](#contents_table)\n",
    "\n"
   ]
  },
  {
   "cell_type": "markdown",
   "id": "f0a8eff7",
   "metadata": {},
   "source": [
    "<div style=\"border-radius:10px; padding: 15px; background-color: #E1BEE7; font-size:115%; text-align:left\">\n",
    "\n",
    "<font color=Black>For <b>Exploratory Data Analysis (EDA)</b>, we'll follow two main steps:\n",
    "\n",
    "<b>• Univariate Analysis</b> – We'll look at each feature by itself to understand its values and distribution.\n",
    "\n",
    "<b>• Bivariate Analysis</b> – We'll check how each feature relates to the target variable to see which ones might be important for prediction.\n",
    "\n",
    "This will help us understand the data better and find useful patterns for our model.\n",
    "\n",
    "In The Exploratory Data Analysis, I Will Be Looking At The <b>Relationship Between The Target Variable And The Other Variables.</b> I Will Also Be Looking At The Distribution Of The Variables Across The Dataset, In Order To Understand The Data In A Better Way.</font>"
   ]
  },
  {
   "cell_type": "markdown",
   "id": "0486f820",
   "metadata": {},
   "source": [
    "<a id=\"univariate\"></a>\n",
    "# <b><span style='color:#ff00ff'>Step 4.1 |</span><span style='color:#ff00ff'> Univariate Analysis</span></b></span></b>\n",
    "<a id=\"cat_uni\"></a>\n",
    "### <b><span style='color:#ff00ff'>Step 4.1.1 |</span><span style='color:#ff00ff'> Categorical Feature</span></b></span></b>\n",
    "⬆️ [Contents](#contents_table)"
   ]
  },
  {
   "cell_type": "code",
   "execution_count": null,
   "id": "2b63db53",
   "metadata": {},
   "outputs": [],
   "source": [
    "\n",
    "categorical_cols = ['Warehouse_block', 'Mode_of_Shipment', 'Product_importance', 'Gender', 'Reached.on.Time_Y.N']\n",
    "\n",
    "for col in categorical_cols:\n",
    "    \n",
    "    fig = plt.figure(figsize=(6, 4))\n",
    "    fig.patch.set_facecolor(\"#27272AFE\")  # Dark outer background\n",
    "\n",
    "    sns.countplot(data=df, x=col, palette='Set2')  # Soft bar colors\n",
    "\n",
    "    ax = plt.gca()\n",
    "    ax.set_facecolor(\"#27272AFE\")  # Inner plot background\n",
    "\n",
    "    plt.title(f'Distribution of {col}', fontsize=12, color=\"white\")\n",
    "    \n",
    "    plt.xticks(rotation=45, fontsize=9, color=\"#EEEEF7\")  # X-axis tick color\n",
    "    plt.yticks(fontsize=8, color=\"#EEEEF7\")               # Y-axis tick color\n",
    "\n",
    "    plt.xlabel(col, color='white')\n",
    "    plt.ylabel(\"Count\", color='white')\n",
    "\n",
    "    # Remove all spines (borders)\n",
    "    for spine in ax.spines.values():\n",
    "        spine.set_visible(False)\n",
    "\n",
    "    plt.tight_layout(pad=2.0)\n",
    "    plt.show()\n"
   ]
  },
  {
   "cell_type": "markdown",
   "id": "5cdf7252",
   "metadata": {},
   "source": [
    "<a id=\"num_uni\"></a>\n",
    "## <b><span style='color:#ff00ff'></span><span style='color:#ff00ff'>4.1.2. Numerical Features</span></b>\n",
    "⬆️ [Contents](#contents_table)"
   ]
  },
  {
   "cell_type": "code",
   "execution_count": null,
   "id": "73e835c5",
   "metadata": {},
   "outputs": [],
   "source": [
    "numerical_cols = ['Customer_care_calls', 'Customer_rating', 'Cost_of_the_Product',\n",
    "                  'Prior_purchases', 'Discount_offered', 'Weight_in_gms']\n",
    "\n",
    "fig, axes = plt.subplots(3, 2, figsize=(16, 12))\n",
    "\n",
    "# Set background color for the full figure\n",
    "fig.patch.set_facecolor('#e6f2ff')  # Light blue\n",
    "\n",
    "# Loop through each subplot and plot the histogram\n",
    "for ax, col in zip(axes.flatten(), numerical_cols):\n",
    "    sns.histplot(data=df,x=col,bins=20,kde=True,ax=ax,color=\"#3871C1\", edgecolor='black', linewidth=0.5)\n",
    "    #df[col].hist(ax=ax, bins=20, color='#336699', edgecolor='black')  # Navy bars\n",
    "    ax.set_title(col, color='#003366', fontsize=12)                   # Dark blue title\n",
    "    ax.set_facecolor('#ffffff')  # Off-white background for subplot\n",
    "    ax.tick_params(colors='#333333')  # Dark grey tick labels\n",
    "    \n",
    "     # Light horizontal grid lines\n",
    "    ax.grid(axis='both', color=\"#b9b5b5\", linestyle='--', linewidth=0.5)\n",
    "\n",
    "    # Clean up borders\n",
    "    ax.spines['top'].set_visible(False)\n",
    "    ax.spines['right'].set_visible(False)\n",
    "\n",
    "# Adjust spacing and add super title\n",
    "plt.tight_layout(pad=3.0)\n",
    "plt.suptitle(\"Histograms of Numerical Features\", fontsize=18, y=1.02, color='#003366')\n",
    "plt.show()\n"
   ]
  },
  {
   "cell_type": "code",
   "execution_count": null,
   "id": "0b35e1a9",
   "metadata": {},
   "outputs": [],
   "source": []
  },
  {
   "cell_type": "markdown",
   "id": "e8f36701",
   "metadata": {},
   "source": [
    "\n",
    "<a id=\"bivariate\"></a>\n",
    "## <b><span style='color:#ff00ff'>Step 4.2 |</span><span style='color:#ff00ff'> Bivariate Analysis(how features relate to the target)</span></b></span></b>\n",
    "<a id=\"cat_target\"></a>\n",
    "### <b><span style='color:#ff00ff'></span><span style='color:#ff00ff'>4.2.1. Target vs Categorical Features</span></b></span></b>\n",
    "⬆️ [Contents](#contents_table)"
   ]
  },
  {
   "cell_type": "code",
   "execution_count": null,
   "id": "c97a722f",
   "metadata": {},
   "outputs": [],
   "source": [
    "for col in categorical_cols[:-1]:\n",
    "    \n",
    "    sns.countplot(data=df, x=col, hue='Reached.on.Time_Y.N')\n",
    "    plt.title(f'{col} vs Delivery Status')\n",
    "    plt.xticks(rotation=45)\n",
    "    plt.show()"
   ]
  },
  {
   "cell_type": "code",
   "execution_count": null,
   "id": "69e7b703",
   "metadata": {},
   "outputs": [],
   "source": []
  },
  {
   "cell_type": "markdown",
   "id": "2253210e",
   "metadata": {},
   "source": [
    "\n",
    "<a id=\"num_target\"></a>\n",
    "### <b><span style='color:#ff00ff'></span><span style='color:#ff00ff'>4.2.2. Target vs Numerical Features</span></b></span></b>\n",
    "⬆️ [Contents](#contents_table)\n"
   ]
  },
  {
   "cell_type": "code",
   "execution_count": null,
   "id": "4ef4a501",
   "metadata": {},
   "outputs": [],
   "source": [
    "for col in numerical_cols:\n",
    "    sns.boxplot(data=df, x='Reached.on.Time_Y.N', y=col)\n",
    "    plt.title(f'{col} by Delivery Status')\n",
    "    plt.show()"
   ]
  },
  {
   "cell_type": "markdown",
   "id": "74aef13f",
   "metadata": {},
   "source": [
    "\n",
    "<a id=\"cor\"></a>\n",
    "### <b><span style='color:#ff00ff'></span><span style='color:#ff00ff'>4.2.3. Correlation Matrix</span></b></span></b>\n",
    "\n",
    "⬆️ [Contents](#contents_table)\n"
   ]
  },
  {
   "cell_type": "code",
   "execution_count": null,
   "id": "2480a057",
   "metadata": {},
   "outputs": [],
   "source": [
    "plt.figure(figsize=(10, 6))\n",
    "sns.heatmap(df[numerical_cols].corr(), annot=True, cmap='YlGnBu')\n",
    "plt.title(\"Correlation Matrix\")\n",
    "plt.xticks(rotation=45)\n",
    "plt.gcf().patch.set_facecolor(\"#c4c4c9\")  # Figure background\n",
    "plt.tight_layout()\n",
    "plt.show()"
   ]
  },
  {
   "cell_type": "markdown",
   "id": "6d22140b",
   "metadata": {},
   "source": [
    "\n",
    "<a id=\"out\"></a>\n",
    "## <b><span style='color:#ff00ff'>Step 4.2.4. </span><span style='color:#ff00ff'>    Outlier's Treatment</span></b></span></b>\n",
    "\n",
    "⬆️ [Contents](#contents_table)\n"
   ]
  },
  {
   "cell_type": "code",
   "execution_count": null,
   "id": "7dbad2ff",
   "metadata": {},
   "outputs": [],
   "source": [
    "# List of numerical columns to check for outliers\n",
    "check_cols = ['Cost_of_the_Product', 'Discount_offered', 'Weight_in_gms', 'Prior_purchases']\n",
    "\n",
    "print(\"Outlier Count by Column:\\n\")\n",
    "\n",
    "for col in check_cols:\n",
    "    Q1 = df[col].quantile(0.25)\n",
    "    Q3 = df[col].quantile(0.75)\n",
    "    IQR = Q3 - Q1\n",
    "    lower_bound = Q1 - 1.5 * IQR\n",
    "    upper_bound = Q3 + 1.5 * IQR\n",
    "\n",
    "    outlier_count = df[(df[col] < lower_bound) | (df[col] > upper_bound)].shape[0]\n",
    "    print(f\"{col}: {outlier_count} outliers\")"
   ]
  },
  {
   "cell_type": "code",
   "execution_count": null,
   "id": "a7f3b902",
   "metadata": {},
   "outputs": [],
   "source": [
    "import numpy as np\n",
    "\n",
    "# Drop only numerical columns\n",
    "corr_matrix = df.select_dtypes(include=[np.number]).corr().abs()\n",
    "\n",
    "# Take upper triangle of correlation matrix\n",
    "upper = corr_matrix.where(np.triu(np.ones(corr_matrix.shape), k=1).astype(bool))\n",
    "\n",
    "# Find features with correlation > threshold (0.9 here)\n",
    "to_drop = [column for column in upper.columns if any(upper[column] > 0.9)]\n",
    "\n",
    "print(\"Highly correlated columns to drop:\", to_drop)\n",
    "\n",
    "# Drop from dataframe\n",
    "df.drop(columns=to_drop, inplace=True)"
   ]
  },
  {
   "cell_type": "code",
   "execution_count": null,
   "id": "07875a08",
   "metadata": {},
   "outputs": [],
   "source": [
    "# Drop column\n",
    "df.drop(['ID', 'Gender'], axis=1, inplace=True)"
   ]
  },
  {
   "cell_type": "code",
   "execution_count": null,
   "id": "b1931d24",
   "metadata": {},
   "outputs": [],
   "source": [
    "df.shape"
   ]
  },
  {
   "cell_type": "code",
   "execution_count": null,
   "id": "903feb15",
   "metadata": {},
   "outputs": [],
   "source": [
    "df.head()"
   ]
  },
  {
   "cell_type": "markdown",
   "id": "062ddfee",
   "metadata": {},
   "source": [
    "<a id=\"preprocessing\"></a>\n",
    "## <p style=\"background-color:#9C27B0; font-family:calibri; color:white; font-size:100%; text-align:center; border-radius:15px 50px;\">Step 5 | Data Pre-processing</p>\n",
    "\n",
    "⬆️ [Contents](#contents_table)"
   ]
  },
  {
   "cell_type": "markdown",
   "id": "ec504891",
   "metadata": {},
   "source": [
    "<a id=\"split\"></a>\n",
    "## <b><span style='color:#ff00ff'>Step 5.1 | Split Features and Target Variables</span></b>\n",
    "\n",
    "⬆️ [Contents](#contents_table)"
   ]
  },
  {
   "cell_type": "code",
   "execution_count": null,
   "id": "6d4ca1bd",
   "metadata": {},
   "outputs": [],
   "source": [
    "X=df.drop('Reached.on.Time_Y.N', axis=1)\n",
    "y=df['Reached.on.Time_Y.N']"
   ]
  },
  {
   "cell_type": "code",
   "execution_count": null,
   "id": "eb8898e1",
   "metadata": {},
   "outputs": [],
   "source": [
    "# # Assuming df is already cleaned\n",
    "# numerical_cols = X.select_dtypes(include=['int64', 'float64']).columns.tolist()\n",
    "# ordinal_cols =['Product_importance']\n",
    "# categorical_cols = set(X.select_dtypes(include=['object', 'category']).columns.tolist()) - set(ordinal_cols)\n",
    "\n",
    "\n",
    "# print(\"Numerical:\", numerical_cols)\n",
    "# print(\"Categorical:\", categorical_cols)\n",
    "# print(\"ordinal_cols:\",ordinal_cols)\n"
   ]
  },
  {
   "cell_type": "code",
   "execution_count": null,
   "id": "9d908e6b",
   "metadata": {},
   "outputs": [],
   "source": [
    "# # Numerical Columns:\n",
    "# numerical_cols = [\n",
    "#     'Customer_rating',\n",
    "#     'Cost_of_the_Product',\n",
    "#     'Discount_offered',\n",
    "#     'Weight_in_gms',\n",
    "#     'Prior_purchases'\n",
    "# ]"
   ]
  },
  {
   "cell_type": "code",
   "execution_count": null,
   "id": "2b534417",
   "metadata": {},
   "outputs": [],
   "source": [
    "# #Categorical (Nominal) Columns:\n",
    "# categorical_cols = [\n",
    "#     'Warehouse_block',\n",
    "#     'Mode_of_Shipment'\n",
    "# ]"
   ]
  },
  {
   "cell_type": "code",
   "execution_count": null,
   "id": "3d36728f",
   "metadata": {},
   "outputs": [],
   "source": [
    "# # Ordinal Columns:\n",
    "# #These have meaningful order: low < medium < high  -> Use OrdinalEncoding\n",
    "\n",
    "# ordinal_cols = ['Product_importance']\n",
    "\n",
    "# # Defining order explicitly\n",
    "# ordinal_order = [['low', 'medium', 'high']]\n"
   ]
  },
  {
   "cell_type": "markdown",
   "id": "803ba252",
   "metadata": {},
   "source": [
    "\n",
    "\n",
    "\n",
    "<a id=\"transformer\"></a>\n",
    "## <b><span style='color:#ff00ff'>Step 5.2 |Column Transformer</span></b>\n",
    "\n",
    "⬆️ [Contents](#contents_table)"
   ]
  },
  {
   "cell_type": "code",
   "execution_count": null,
   "id": "f160e167",
   "metadata": {},
   "outputs": [],
   "source": [
    "# numeric, categorical, ordinal columns\n",
    "num_features = ['Customer_care_calls', 'Customer_rating', 'Cost_of_the_Product',\n",
    "                'Prior_purchases', 'Discount_offered', 'Weight_in_gms']\n",
    "\n",
    "cat_features = ['Mode_of_Shipment', 'Warehouse_block']\n",
    "ord_features = ['Product_importance']\n",
    "\n",
    "# preprocessing\n",
    "preprocessor = ColumnTransformer([\n",
    "    ('num', RobustScaler(), num_features),\n",
    "    ('cat', OneHotEncoder(), cat_features),\n",
    "    ('ord', OrdinalEncoder(), ord_features)\n",
    "])\n",
    "\n",
    "# pipeline with SMOTE AFTER preprocessing\n",
    "from sklearn.ensemble import RandomForestClassifier\n",
    "\n",
    "pipe = Pipeline([\n",
    "    ('preprocessor', preprocessor),\n",
    "    ('smote', SMOTE()),   # SMOTE sees only numerical output\n",
    "    ('model', RandomForestClassifier())\n",
    "])"
   ]
  },
  {
   "cell_type": "code",
   "execution_count": null,
   "id": "4822c2a1",
   "metadata": {},
   "outputs": [],
   "source": [
    "\n",
    "# # Pipelines for each type\n",
    "# num_pipeline = Pipeline([\n",
    "#     ('scaler', StandardScaler())\n",
    "# ])\n",
    "\n",
    "# cat_pipeline = Pipeline([\n",
    "#     ('onehot', OneHotEncoder(drop='first', handle_unknown='ignore'))\n",
    "# ])\n",
    "\n",
    "# ord_pipeline = Pipeline([\n",
    "#     ('ordinal', OrdinalEncoder(categories=ordinal_order))\n",
    "# ])\n",
    "\n",
    "# # Final column transformer\n",
    "# preprocessor = ColumnTransformer([\n",
    "#     ('num', num_pipeline, numerical_cols),\n",
    "#     ('cat', cat_pipeline, categorical_cols),\n",
    "#     ('ord', ord_pipeline, ordinal_cols)\n",
    "# ])\n",
    "\n",
    "# # Full pipeline with RandomForest\n",
    "# pipeline = Pipeline([\n",
    "#     (\"preprocess\", preprocessor),\n",
    "#      ('smote', SMOTE()),   # SMOTE sees only numerical output\n",
    "#     (\"model\", RandomForestClassifier(random_state=42))\n",
    "# ])"
   ]
  },
  {
   "cell_type": "markdown",
   "id": "3683b8a9",
   "metadata": {},
   "source": [
    "\n",
    "<a id=\"train_test\"></a>\n",
    "\n",
    "### <b><span style='color:#ff00ff'></span><span style='color:#ff00ff'>5.3. Train-Test-Split</span></b></span></b>\n",
    "⬆️ [Contents](#contents_table)"
   ]
  },
  {
   "cell_type": "code",
   "execution_count": null,
   "id": "c400710c",
   "metadata": {},
   "outputs": [],
   "source": [
    "X_train, X_test, y_train, y_test = train_test_split(X, y, test_size=0.2, random_state=42)\n"
   ]
  },
  {
   "cell_type": "code",
   "execution_count": null,
   "id": "12fad633",
   "metadata": {},
   "outputs": [],
   "source": [
    "# Training and Testing Data\n",
    "print(f'Training Data : {X_train.shape} | Testing Data : {X_test.shape}')\n"
   ]
  },
  {
   "cell_type": "code",
   "execution_count": null,
   "id": "af8b5e94",
   "metadata": {},
   "outputs": [],
   "source": [
    "df.shape"
   ]
  },
  {
   "cell_type": "markdown",
   "id": "f02ecdd1",
   "metadata": {},
   "source": [
    "<a id=\"model_building\"></a>\n",
    "## <p style=\"background-color:#9C27B0; font-family:calibri; color:white; font-size:100%; text-align:center; border-radius:15px 50px;\">Step 6 | Model Building</p>\n",
    "\n",
    "\n",
    "\n",
    "\n",
    "<a id=\"model_build\"></a>\n",
    "### <b><span style='color:#ff00ff'></span><span style='color:#ff00ff'>6.1  Model Build</span></b></span></b>\n",
    "⬆️ [Contents](#contents_table)\n"
   ]
  },
  {
   "cell_type": "code",
   "execution_count": null,
   "id": "ecc3c60f",
   "metadata": {},
   "outputs": [],
   "source": [
    "\n",
    "models = {\n",
    "    'RandomForest': RandomForestClassifier(random_state=42),\n",
    "    'LogisticRegression': LogisticRegression(max_iter=1000),\n",
    "    'DecisionTree': DecisionTreeClassifier(random_state=42),\n",
    "    'KNN': KNeighborsClassifier()\n",
    "}\n",
    "\n",
    "# Store results\n",
    "results = {}\n",
    "\n",
    "# Loop through and train each model\n",
    "for name, model in models.items():\n",
    "    pipe = Pipeline([\n",
    "        ('preprocessing', preprocessor),\n",
    "        ('model', model)\n",
    "    ])\n",
    "    \n",
    "    pipe.fit(X_train, y_train)\n",
    "    y_pred = pipe.predict(X_test)\n",
    "    acc = accuracy_score(y_test, y_pred)\n",
    "    results[name] = acc\n",
    "\n",
    "    print(f\"\\n{name} Accuracy: {acc * 100:.2f}%\")\n",
    "\n",
    "# Find the best model\n",
    "best_model_name = max(results, key=results.get)\n",
    "best_accuracy = results[best_model_name]\n",
    "\n",
    "print(\"\\n💠 Best Model:\")\n",
    "print(f\"Model is: {best_model_name} | Accuracy is: {best_accuracy * 100:.2f}%\")\n",
    "# print(\"Classification Report:\\n\", classification_report(y_test, y_pred))\n",
    "# print(\"-\" * 50)\n",
    "\n",
    "  "
   ]
  },
  {
   "cell_type": "markdown",
   "id": "4916fd66",
   "metadata": {},
   "source": [
    "\n",
    "<a id=\"parameter_tuning\"></a>\n",
    "\n",
    "### <b><span style='color:#ff00ff'></span><span style='color:#ff00ff'>6.2. Parameter Tunning</span></b></span></b>\n",
    "⬆️ [Contents](#contents_table)"
   ]
  },
  {
   "cell_type": "code",
   "execution_count": null,
   "id": "c4bef6a6",
   "metadata": {},
   "outputs": [],
   "source": [
    "#  1. Consistent names everywhere\n",
    "param_grid = {\n",
    "    'RandomForest': {\n",
    "        'clf__n_estimators': [100, 200],\n",
    "        'clf__max_depth': [None, 10, 20]\n",
    "    },\n",
    "    'DecisionTree': {\n",
    "        'clf__max_depth': [None, 10, 20],\n",
    "        'clf__min_samples_split': [2, 5]\n",
    "    },\n",
    "    'LogisticRegression': {\n",
    "        'clf__C': [0.01, 0.1, 1, 10]\n",
    "    },\n",
    "    'KNN': {\n",
    "        'clf__n_neighbors': [3, 5, 7]\n",
    "    }\n",
    "}\n",
    "\n",
    "models = {\n",
    "    'RandomForest': RandomForestClassifier(class_weight='balanced', random_state=42),\n",
    "    'DecisionTree': DecisionTreeClassifier(class_weight='balanced', random_state=42),\n",
    "    'LogisticRegression': LogisticRegression(max_iter=1000, class_weight='balanced'),\n",
    "    'KNN': KNeighborsClassifier()\n",
    "}\n"
   ]
  },
  {
   "cell_type": "markdown",
   "id": "5518fbfb",
   "metadata": {},
   "source": [
    "\n",
    "<a id=\"gridsearchcv\"></a>\n",
    "\n",
    "### <b><span style='color:#ff00ff'></span><span style='color:#ff00ff'>6.3. GridSearchCV setup</span></b></span></b>\n",
    "\n",
    "⬆️ [Contents](#contents_table)"
   ]
  },
  {
   "cell_type": "code",
   "execution_count": null,
   "id": "60687d01",
   "metadata": {},
   "outputs": [],
   "source": [
    "#  2. Loop through models\n",
    "from imblearn.pipeline import Pipeline as ImbPipeline\n",
    "from sklearn.metrics import accuracy_score, precision_score, recall_score, f1_score\n",
    "\n",
    "metrics_summary = {}\n",
    "best_pipelines={}\n",
    "\n",
    "for name, model in models.items():\n",
    "    pipe = ImbPipeline([\n",
    "        ('preprocessor', preprocessor),  # Only encode categoricals\n",
    "        ('smote', SMOTE(random_state=42)),\n",
    "        ('clf', model)\n",
    "    ])\n",
    "\n",
    "    grid = GridSearchCV(pipe, param_grid[name], cv=5, scoring='accuracy', n_jobs=-1)\n",
    "    grid.fit(X_train, y_train)\n",
    "\n",
    "    y_pred = grid.predict(X_test)\n",
    "\n",
    "    acc = accuracy_score(y_test, y_pred)\n",
    "    prec = precision_score(y_test, y_pred)\n",
    "    rec = recall_score(y_test, y_pred)\n",
    "    f1 = f1_score(y_test, y_pred)\n",
    "    best_pipelines[name] = grid  #  store the GridSearchCV\n",
    "\n",
    "    metrics_summary[name] = {\n",
    "        'Accuracy': acc, 'Precision': prec, 'Recall': rec, 'F1-Score': f1\n",
    "    }\n",
    "\n",
    "    print(f\"\\n💠{name} Results:\")\n",
    "    print(\"===================================\")\n",
    "    print(\"Best Parameters:\", grid.best_params_)\n",
    "    print(f\"Accuracy: {acc:.2%}\")\n",
    "    print(confusion_matrix(y_test, y_pred))\n",
    "    print(classification_report(y_test, y_pred))"
   ]
  },
  {
   "cell_type": "code",
   "execution_count": null,
   "id": "21c5967e",
   "metadata": {},
   "outputs": [],
   "source": [
    "#  3. After loop: Find best model\n",
    "best_model_name = max(metrics_summary, key=lambda k: metrics_summary[k]['Accuracy'])\n",
    "best_metrics = metrics_summary[best_model_name]\n",
    "\n",
    "print(\"💠 Best Model Overall:\")\n",
    "print(\"-----------------------------------\")\n",
    "print(f\"Model: {best_model_name}\")\n",
    "print(f\"Accuracy: {best_metrics['Accuracy']:.2%}\")\n",
    "print(f\"Precision: {best_metrics['Precision']:.2%}\")\n",
    "print(f\"Recall: {best_metrics['Recall']:.2%}\")\n",
    "print(f\"F1-Score: {best_metrics['F1-Score']:.2%}\")"
   ]
  },
  {
   "cell_type": "code",
   "execution_count": null,
   "id": "34831f15",
   "metadata": {},
   "outputs": [],
   "source": [
    "print(\"Best model:\", best_model_name)\n",
    "print(\"Best params:\", best_pipelines[best_model_name].best_params_)"
   ]
  },
  {
   "cell_type": "code",
   "execution_count": null,
   "id": "5312111c",
   "metadata": {},
   "outputs": [],
   "source": [
    "# #  4. Define param grid for the best model\n",
    "# if best_model_name == 'RandomForest':\n",
    "#     param_grid = {\n",
    "#         'model__n_estimators': [50, 100, 200],\n",
    "#         'model__max_depth': [5, 10, 15, None],\n",
    "#         'model__min_samples_split': [2, 5, 10]\n",
    "#     }\n",
    "# elif best_model_name == 'LogisticRegression':\n",
    "#     param_grid = {\n",
    "#         'model__C': [0.01, 0.1, 1, 10],\n",
    "#         'model__solver': ['liblinear', 'lbfgs']\n",
    "#     }\n",
    "# elif best_model_name == 'DecisionTree':\n",
    "#     param_grid = {\n",
    "#         'model__max_depth': [None, 5, 10, 20],\n",
    "#         'model__min_samples_split': [2, 5, 10]\n",
    "#     }\n",
    "# elif best_model_name == 'KNN':\n",
    "#     param_grid = {\n",
    "#         'model__n_neighbors': [3, 5, 7, 9],\n",
    "#         'model__weights': ['uniform', 'distance']\n",
    "#     }\n",
    "# else:\n",
    "#     raise ValueError(\"No param grid defined for this model.\")\n"
   ]
  },
  {
   "cell_type": "code",
   "execution_count": null,
   "id": "6a71af6e",
   "metadata": {},
   "outputs": [],
   "source": [
    "# pipe = Pipeline([\n",
    "#     ('preprocessor', preprocessor),\n",
    "#     ('smote', SMOTE()),   # SMOTE sees only numerical output\n",
    "#     ('model', RandomForestClassifier())\n",
    "# ])"
   ]
  },
  {
   "cell_type": "code",
   "execution_count": null,
   "id": "92d13602",
   "metadata": {},
   "outputs": [],
   "source": [
    "# # 5. Setup pipeline again for the best model\n",
    "# best_model = models[best_model_name]\n",
    "\n",
    "# pipe = Pipeline([\n",
    "#     ('preprocessing', preprocessor),\n",
    "#     ('model', best_model)\n",
    "# ])"
   ]
  },
  {
   "cell_type": "code",
   "execution_count": null,
   "id": "dbba3eaf",
   "metadata": {},
   "outputs": [],
   "source": [
    "# pipe.fit(X_train, y_train)"
   ]
  },
  {
   "cell_type": "code",
   "execution_count": null,
   "id": "389ac70f",
   "metadata": {},
   "outputs": [],
   "source": [
    "# # ✅ 6. GridSearchCV for hyperparameter tuning\n",
    "# grid_search = GridSearchCV(\n",
    "#     estimator=pipe,\n",
    "#     param_grid=param_grid,\n",
    "#     cv=5,\n",
    "#     scoring='accuracy',\n",
    "#     n_jobs=-1\n",
    "# )\n",
    "\n",
    "# grid_search.fit(X_train, y_train)\n"
   ]
  },
  {
   "cell_type": "code",
   "execution_count": null,
   "id": "ad80df59",
   "metadata": {},
   "outputs": [],
   "source": [
    "# # RandomizedSearchCV\n",
    "# grid = RandomizedSearchCV(pipe, param_grid, cv=5, scoring='accuracy', n_jobs=-1, n_iter=20, verbose=2)\n",
    "# grid.fit(X_train, y_train)"
   ]
  },
  {
   "cell_type": "code",
   "execution_count": null,
   "id": "142b9ba5",
   "metadata": {},
   "outputs": [],
   "source": [
    "# # Best Parameters\n",
    "# best_params = grid.best_params_\n",
    "# best_params"
   ]
  },
  {
   "cell_type": "code",
   "execution_count": null,
   "id": "f6c3c6cb",
   "metadata": {},
   "outputs": [],
   "source": [
    "# # Best Score\n",
    "\n",
    "# # best_score = grid.best_score_\n",
    "# # best_score\n",
    "# print(f\"✅ Best CV Accuracy: {grid.best_score_:.4f}\")"
   ]
  },
  {
   "cell_type": "code",
   "execution_count": null,
   "id": "a0f38c17",
   "metadata": {},
   "outputs": [],
   "source": [
    "# # Best estimator\n",
    "# best_model = grid.best_estimator_\n"
   ]
  },
  {
   "cell_type": "code",
   "execution_count": null,
   "id": "cddc915e",
   "metadata": {},
   "outputs": [],
   "source": [
    "\n",
    "# #  7. Use this tuned model to predict test set\n",
    "# y_pred = best_model.predict(X_test)\n",
    "# test_acc = accuracy_score(y_test, y_pred)\n",
    "# print(f\"✅ Test Accuracy with best hyperparameters: {test_acc:.4f}\")\n"
   ]
  },
  {
   "cell_type": "markdown",
   "id": "d372dd6f",
   "metadata": {},
   "source": [
    "<a id=\"evaluation\"></a>\n",
    "## <p style=\"background-color:#9C27B0; font-family:calibri; color:white; font-size:100%; text-align:center; border-radius:15px 50px;\">Step 7 | Model Evaluation</p>\n",
    "\n",
    "⬆️ [Contents](#contents_table)\n"
   ]
  },
  {
   "cell_type": "code",
   "execution_count": null,
   "id": "97390533",
   "metadata": {},
   "outputs": [],
   "source": [
    "#Accuracy Score\n",
    "print(\"Test Accuracy:\", accuracy_score(y_test, y_pred))"
   ]
  },
  {
   "cell_type": "markdown",
   "id": "2f8b1a7b",
   "metadata": {},
   "source": [
    "\n",
    "<a id=\"metrics\"></a>\n",
    "\n",
    "### <b><span style='color:#ff00ff'></span><span style='color:#ff00ff'>7.1. Accuracy, Precision, Recall, F1-Score</span></b></span></b>\n",
    "⬆️ [Contents](#contents_table)"
   ]
  },
  {
   "cell_type": "code",
   "execution_count": null,
   "id": "d1e0d8eb",
   "metadata": {},
   "outputs": [],
   "source": [
    "#Classification Report\n",
    "print(\"Classification Report:\\n\", classification_report(y_test, y_pred))\n",
    "print(\"Classification Report:\\n\", confusion_matrix(y_test, y_pred))\n",
    "cm = confusion_matrix(y_test, y_pred)\n",
    "# Plot: Confusion Matrix + Report\n",
    "plt.figure(figsize=(4, 3))\n",
    "sns.heatmap(cm, annot=True, fmt=\"d\", cmap=\"YlGnBu\", cbar=False)\n",
    "plt.title(\"Random Forest - Confusion Matrix\", fontsize=14)\n",
    "plt.xlabel(\"Predicted Label\")\n",
    "plt.ylabel(\"Actual Label\")\n",
    "plt.show()"
   ]
  },
  {
   "cell_type": "markdown",
   "id": "055947d6",
   "metadata": {},
   "source": [
    "\n",
    "<a id=\"roc\"></a>\n",
    "\n",
    "### <b><span style='color:#ff00ff'></span><span style='color:#ff00ff'>7.2. ROC Curve</span></b></span></b>\n",
    "⬆️ [Contents](#contents_table)"
   ]
  },
  {
   "cell_type": "code",
   "execution_count": null,
   "id": "9acf66de",
   "metadata": {},
   "outputs": [],
   "source": [
    "from sklearn.metrics import roc_curve, auc\n",
    "import matplotlib.pyplot as plt\n",
    "\n",
    "#  Get best estimator from GridSearchCV results\n",
    "final_model = best_pipelines[best_model_name].best_estimator_\n",
    "\n",
    "#  Get predicted probabilities for class 1\n",
    "y_proba = final_model.predict_proba(X_test)[:, 1]\n",
    "\n",
    "#  Compute ROC curve\n",
    "fpr, tpr, thresholds = roc_curve(y_test, y_proba)\n",
    "roc_auc = auc(fpr, tpr)\n",
    "\n",
    "#  Plot it\n",
    "plt.figure(figsize=(8, 6))\n",
    "plt.plot(fpr, tpr, color='darkorange', lw=2, label=f'ROC curve (AUC = {roc_auc:.2f})')\n",
    "plt.plot([0, 1], [0, 1], color='navy', lw=2, linestyle='--')  # Diagonal line\n",
    "plt.xlim([0.0, 1.0])\n",
    "plt.ylim([0.0, 1.05])\n",
    "plt.xlabel('False Positive Rate')\n",
    "plt.ylabel('True Positive Rate')\n",
    "plt.title(f'ROC Curve - {best_model_name}')\n",
    "plt.legend(loc=\"lower right\")\n",
    "plt.grid(True)\n",
    "plt.show()\n"
   ]
  },
  {
   "cell_type": "markdown",
   "id": "adee66c8",
   "metadata": {},
   "source": [
    "\n",
    "<a id=\"classification_report\"></a>\n",
    "\n",
    "### <b><span style='color:#ff00ff'></span><span style='color:#ff00ff'>7.3. Classification report</span></b></span></b>\n",
    "⬆️ [Contents](#contents_table)"
   ]
  },
  {
   "cell_type": "code",
   "execution_count": null,
   "id": "540f2393",
   "metadata": {},
   "outputs": [],
   "source": [
    "from sklearn.metrics import (\n",
    "    accuracy_score, precision_score, recall_score, f1_score,\n",
    "    confusion_matrix, classification_report\n",
    ")\n",
    "import matplotlib.pyplot as plt\n",
    "import seaborn as sns\n",
    "\n",
    "# 📌 Dictionary to store all confusion matrices\n",
    "all_confusion_matrices = {}\n",
    "\n",
    "for name, grid in best_pipelines.items():\n",
    "    best_model = grid.best_estimator_\n",
    "    y_pred = best_model.predict(X_test)\n",
    "\n",
    "    # Metrics\n",
    "    acc = accuracy_score(y_test, y_pred)\n",
    "    prec = precision_score(y_test, y_pred)\n",
    "    rec = recall_score(y_test, y_pred)\n",
    "    f1 = f1_score(y_test, y_pred)\n",
    "    cm = confusion_matrix(y_test, y_pred)\n",
    "\n",
    "    all_confusion_matrices[name] = cm\n",
    "\n",
    "    print(f\"\\n===== {name} =====\")\n",
    "    print(f\"Accuracy: {acc* 100:.4f}\")\n",
    "    print(f\"Precision: {prec * 100:.4f}\")\n",
    "    print(f\"Recall: {rec * 100:.4f}\")\n",
    "    print(f\"F1-Score: {f1 * 100:.4f}\")\n",
    "    print(\"Classification Report:\\n\", classification_report(y_test, y_pred))\n",
    "\n",
    "    # Plot confusion matrix\n",
    "    plt.figure(figsize=(5, 4))\n",
    "    sns.heatmap(cm, annot=True, fmt='d', cmap='Blues')\n",
    "    plt.title(f\"Confusion Matrix - {name}\")\n",
    "    plt.xlabel('Predicted')\n",
    "    plt.ylabel('Actual')\n",
    "    plt.show()\n"
   ]
  },
  {
   "cell_type": "code",
   "execution_count": null,
   "id": "2f4522f4",
   "metadata": {},
   "outputs": [],
   "source": [
    "# Setup subplots\n",
    "fig, axes = plt.subplots(2, 2, figsize=(14, 10))\n",
    "axes = axes.flatten()\n",
    "\n",
    "# Loop through models and plot\n",
    "for idx, (name, model) in enumerate(models.items()):\n",
    "    pipe = Pipeline([\n",
    "        (\"preprocess\", preprocessor),\n",
    "        (\"model\", model)\n",
    "    ])\n",
    "    pipe.fit(X_train, y_train)\n",
    "    y_pred = pipe.predict(X_test)\n",
    "\n",
    "    # Confusion Matrix\n",
    "    cm = confusion_matrix(y_test, y_pred)\n",
    "    sns.heatmap(cm, annot=True, fmt=\"d\", cmap=\"Reds\", ax=axes[idx])\n",
    "    axes[idx].set_title(name)\n",
    "    axes[idx].set_xlabel(\"Predicted\")\n",
    "    axes[idx].set_ylabel(\"Actual\")\n",
    "\n",
    "    # Print classification report\n",
    "    print(f\"\\n======== {name} =========\")\n",
    "    print(classification_report(y_test, y_pred))\n",
    "\n",
    "plt.tight_layout()\n",
    "plt.show()"
   ]
  },
  {
   "cell_type": "markdown",
   "id": "b0085f5a",
   "metadata": {},
   "source": [
    "\n",
    "<a id=\"comparison\"></a>\n",
    "## <p style=\"background-color:#9C27B0; font-family:calibri; color:white; font-size:100%; text-align:center; border-radius:15px 50px;\">Step 8 | Model Comparison: Accuracy</p>\n",
    "⬆️ [Contents](#contents_table)\n"
   ]
  },
  {
   "cell_type": "markdown",
   "id": "46168605",
   "metadata": {},
   "source": [
    "\n",
    "<a id=\"bar_plot\"></a>\n",
    "\n",
    "### <b><span style='color:#ff00ff'></span><span style='color:#ff00ff'>8.1 Bar plot comparison of metrics</span></b></span></b>\n",
    "⬆️ [Contents](#contents_table)"
   ]
  },
  {
   "cell_type": "code",
   "execution_count": null,
   "id": "672be5c5",
   "metadata": {},
   "outputs": [],
   "source": [
    "import matplotlib.pyplot as plt\n",
    "import numpy as np\n",
    "\n",
    "\n",
    "metric_names = ['Accuracy', 'Precision', 'Recall', 'F1-Score']\n",
    "model_names = list(metrics_summary.keys())\n",
    "\n",
    "x = np.arange(len(model_names))\n",
    "width = 0.2\n",
    "\n",
    "# Custom colors for each metric\n",
    "colors =  [\"#840486\", '#421a68', \"#F6E19E\", \"#dc74c9\"]\n",
    "\n",
    "plt.figure(figsize=(12, 6))\n",
    "\n",
    "for i, (metric, color) in enumerate(zip(metric_names, colors)):\n",
    "    values = [metrics_summary[model][metric] for model in model_names]\n",
    "    bars = plt.bar(x + i * width, values, width=width, label=metric, color=color)\n",
    "\n",
    "    # Add percentage labels on top of each bar\n",
    "    for bar, val in zip(bars, values):\n",
    "        plt.text(\n",
    "            bar.get_x() + bar.get_width() / 2,\n",
    "            bar.get_height() + 0.01,\n",
    "            f\"{val * 100:.1f}%\",  # show as %\n",
    "            ha='center',\n",
    "            va='bottom',\n",
    "            fontsize=9\n",
    "        )\n",
    "\n",
    "plt.xticks(x + width * (len(metric_names)-1)/2, model_names, rotation=15)\n",
    "plt.ylabel(\"Score\")\n",
    "plt.ylim(0, 1)\n",
    "plt.title(\"Model Comparison: Accuracy, Precision, Recall, F1-Score\")\n",
    "plt.legend(title=\"Metrics\")\n",
    "plt.tight_layout()\n",
    "plt.show()\n"
   ]
  },
  {
   "cell_type": "markdown",
   "id": "c6a4d6a4",
   "metadata": {},
   "source": [
    "\n",
    "<a id=\"best_pipeline\"></a>\n",
    "\n",
    "### <b><span style='color:#ff00ff'></span><span style='color:#ff00ff'>8.2 Extract from best model pipeline</span></b></span></b>\n",
    "⬆️ [Contents](#contents_table)"
   ]
  },
  {
   "cell_type": "code",
   "execution_count": null,
   "id": "4cf4b954",
   "metadata": {},
   "outputs": [],
   "source": [
    "\n",
    "from imblearn.pipeline import Pipeline as ImbPipeline\n",
    "\n",
    "final_pipeline = ImbPipeline([\n",
    "    ('preprocessor', preprocessor),\n",
    "    ('smote', SMOTE(random_state=42)),\n",
    "    ('clf', RandomForestClassifier(class_weight='balanced', n_estimators=200, random_state=42))\n",
    "])\n"
   ]
  },
  {
   "cell_type": "markdown",
   "id": "79aa2fe8",
   "metadata": {},
   "source": [
    "\n",
    "<a id=\"top_features\"></a>\n",
    "\n",
    "### <b><span style='color:#ff00ff'></span><span style='color:#ff00ff'>8.3. Plot top features</span></b></span></b>\n",
    "\n",
    "⬆️ [Contents](#contents_table)"
   ]
  },
  {
   "cell_type": "code",
   "execution_count": null,
   "id": "63a9c3c3",
   "metadata": {},
   "outputs": [],
   "source": [
    "from imblearn.pipeline import Pipeline as ImbPipeline\n",
    "from imblearn.over_sampling import SMOTE\n",
    "from sklearn.ensemble import RandomForestClassifier\n",
    "\n",
    "#   Final pipeline with best parameters\n",
    "final_pipeline = ImbPipeline([\n",
    "    ('preprocessor', preprocessor),\n",
    "    ('smote', SMOTE(random_state=42)),\n",
    "    ('clf', RandomForestClassifier(class_weight='balanced',\n",
    "                                   n_estimators=200,\n",
    "                                   max_depth=20,   # Example best param\n",
    "                                   random_state=42))\n",
    "])\n",
    "\n",
    "#   Fit on FULL training set\n",
    "final_pipeline.fit(X_train, y_train)\n",
    "\n",
    "\n"
   ]
  },
  {
   "cell_type": "code",
   "execution_count": null,
   "id": "194d0c83",
   "metadata": {},
   "outputs": [],
   "source": [
    "#  Extract the fitted model\n",
    "rf_model = final_pipeline.named_steps['clf']\n",
    "\n",
    "#  Get proper feature names\n",
    "ohe_features = preprocessor.named_transformers_['cat'].get_feature_names_out(cat_features)\n",
    "final_features = num_features + list(ohe_features) + ord_features\n",
    "\n",
    "#  Check size match\n",
    "print(f\"Features: {len(final_features)} | Importances: {len(rf_model.feature_importances_)}\")\n",
    "\n",
    "#  Make Series and plot top 10\n",
    "importances = pd.Series(rf_model.feature_importances_, index=final_features)\n",
    "top10 = importances.sort_values(ascending=False).head(10)\n",
    "\n",
    "plt.figure(figsize=(8, 6))\n",
    "top10.sort_values().plot(kind='barh', color='#9C27B0', edgecolor='black')\n",
    "plt.title(\"Top 10 Feature Importances\")\n",
    "plt.xlabel(\"Importance Score\")\n",
    "plt.ylabel(\"Feature\")\n",
    "plt.grid(axis='x', linestyle='--', alpha=0.7)\n",
    "plt.show()"
   ]
  },
  {
   "cell_type": "markdown",
   "id": "94c78e3a",
   "metadata": {},
   "source": [
    "\n",
    "<a id=\"conclusion\"></a>\n",
    "## <p style=\"background-color:#9C27B0; font-family:calibri; color:white; font-size:100%; text-align:center; border-radius:15px 50px;\">Step 9 | Conclusion</p>\n",
    "\n",
    "⬆️ [Contents](#contents_table)\n"
   ]
  },
  {
   "cell_type": "markdown",
   "id": "96372529",
   "metadata": {},
   "source": [
    "<a id=\"conclusion\"></a>\n",
    "\n",
    "<div style=\"border-radius:10px; padding: 15px; background-color:rgb(241, 191, 250); font-size:120%; text-align:left\">\n",
    "\n",
    "<h3 align=\"left\"><font color=purple><b>Conclusion:</b></font></h3>\n",
    "\n",
    "<font color=black>\n",
    "In this project, we performed a complete analysis of the shipment dataset, conducted extensive EDA, handled data preprocessing, and developed multiple classification models to predict whether a product will be delivered on time or delayed.\n",
    "<br><br>\n",
    "After comparing performance metrics such as Accuracy, Precision, Recall, F1-Score, and ROC-AUC, we identified the <b>Random Forest Classifier</b> as the best-performing model for this problem.\n",
    "<br><br>\n",
    "The Random Forest model achieved the highest overall accuracy while providing a strong balance between precision and recall. Most importantly, it delivered the highest <b>recall</b> for the late delivery class, which aligns with our key objective of minimizing false negatives and improving proactive shipment management.\n",
    "<br><br>\n",
    "This predictive model can help the company take early action to address potential delays, improving customer satisfaction and protecting the company’s reputation.\n",
    "</font>\n",
    "\n",
    "</div>\n",
    "\n"
   ]
  },
  {
   "cell_type": "code",
   "execution_count": null,
   "id": "2cdec454",
   "metadata": {},
   "outputs": [],
   "source": [
    "import joblib\n",
    "joblib.dump(best_model, 'final_delivery_model.joblib')\n"
   ]
  },
  {
   "cell_type": "markdown",
   "id": "8d87f745",
   "metadata": {},
   "source": [
    "<h2 align=\"Center\"><font color='#ff00ff'><b>Thank you!</b></font></h2>"
   ]
  },
  {
   "cell_type": "code",
   "execution_count": null,
   "id": "37d787fa",
   "metadata": {},
   "outputs": [],
   "source": []
  }
 ],
 "metadata": {
  "kernelspec": {
   "display_name": "Python 3 (ipykernel)",
   "language": "python",
   "name": "python3"
  },
  "language_info": {
   "codemirror_mode": {
    "name": "ipython",
    "version": 3
   },
   "file_extension": ".py",
   "mimetype": "text/x-python",
   "name": "python",
   "nbconvert_exporter": "python",
   "pygments_lexer": "ipython3",
   "version": "3.13.1"
  }
 },
 "nbformat": 4,
 "nbformat_minor": 5
}
